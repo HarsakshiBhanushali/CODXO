{
 "cells": [
  {
   "cell_type": "code",
   "execution_count": 1,
   "id": "7f5263a0-34dc-42f1-9223-091e5945f32b",
   "metadata": {},
   "outputs": [],
   "source": [
    "import pandas as pd\n",
    "import numpy as np\n",
    "from sklearn.model_selection import train_test_split\n",
    "from sklearn.metrics import classification_report\n",
    "from sklearn.feature_extraction.text import TfidfVectorizer\n",
    "from sklearn.linear_model import LogisticRegression\n",
    "from sklearn.tree import DecisionTreeClassifier\n",
    "from sklearn.ensemble import VotingClassifier\n",
    "import re\n",
    "import string"
   ]
  },
  {
   "cell_type": "code",
   "execution_count": 2,
   "id": "39057c26-6dbc-44ed-ae49-d5a516f49319",
   "metadata": {},
   "outputs": [],
   "source": [
    "data_fake = pd.read_csv('C:/Users/Harsakshi Bhanushali/Downloads/Fake.csv')\n",
    "data_true = pd.read_csv('C:/Users/Harsakshi Bhanushali/Downloads/True.csv')"
   ]
  },
  {
   "cell_type": "code",
   "execution_count": 3,
   "id": "e543b225-59e6-4077-93a0-e21e161fa3f0",
   "metadata": {},
   "outputs": [],
   "source": [
    "data_fake[\"class\"] = 0\n",
    "data_true[\"class\"] = 1"
   ]
  },
  {
   "cell_type": "code",
   "execution_count": 4,
   "id": "a580341f-f5e2-4c86-8c3d-c5513c844273",
   "metadata": {},
   "outputs": [],
   "source": [
    "data_fake_manual_testing = data_fake.tail(10)\n",
    "data_fake = data_fake.iloc[:-10]"
   ]
  },
  {
   "cell_type": "code",
   "execution_count": 5,
   "id": "3e28a751-dcf0-40f5-90e8-91bf846d921a",
   "metadata": {},
   "outputs": [],
   "source": [
    "data_true_manual_testing = data_true.tail(10)\n",
    "data_true = data_true.iloc[:-10]"
   ]
  },
  {
   "cell_type": "code",
   "execution_count": 6,
   "id": "fb09523c-4d5a-472e-bf92-57048206a93a",
   "metadata": {},
   "outputs": [],
   "source": [
    "data_merge = pd.concat([data_fake, data_true], axis=0)"
   ]
  },
  {
   "cell_type": "code",
   "execution_count": 7,
   "id": "c12eefee-23bc-406f-aad5-562589963589",
   "metadata": {},
   "outputs": [],
   "source": [
    "if 'class' not in data_merge.columns:\n",
    "    raise KeyError(\"'class' column is missing in the merged dataset.\")"
   ]
  },
  {
   "cell_type": "code",
   "execution_count": 8,
   "id": "ebd93be9-c7b0-4c6f-a1c6-1b79339512b3",
   "metadata": {},
   "outputs": [],
   "source": [
    "data = data_merge.drop(['title', 'subject', 'date'], axis=1)\n",
    "\n",
    "# Shuffle the data\n",
    "data = data.sample(frac=1).reset_index(drop=True)\n",
    "\n"
   ]
  },
  {
   "cell_type": "code",
   "execution_count": 9,
   "id": "2ac41648-ffd5-4701-941a-206726f61aef",
   "metadata": {},
   "outputs": [],
   "source": [
    "def wordopt(text):\n",
    "    text = text.lower()\n",
    "    text = re.sub(r'\\[.*?\\]', '', text)\n",
    "    text = re.sub(r'\\W', ' ', text)\n",
    "    text = re.sub(r'https?://\\S+|www\\.\\S+', '', text)\n",
    "    text = re.sub(r'<.*?>', '', text)\n",
    "    text = re.sub(r'[%s]' % re.escape(string.punctuation), '', text)\n",
    "    text = re.sub(r'\\n', '', text)\n",
    "    text = re.sub(r'\\w*\\d\\w*', '', text)\n",
    "    return text"
   ]
  },
  {
   "cell_type": "code",
   "execution_count": 10,
   "id": "eb23ca53-89a9-48cf-a189-66280c32e999",
   "metadata": {},
   "outputs": [],
   "source": [
    "data['text'] = data['text'].apply(wordopt)"
   ]
  },
  {
   "cell_type": "code",
   "execution_count": 11,
   "id": "41f8bcdd-fd88-4917-a1ad-c3aff8fd5477",
   "metadata": {},
   "outputs": [],
   "source": [
    "x = data['text']\n",
    "y = data['class']"
   ]
  },
  {
   "cell_type": "code",
   "execution_count": 12,
   "id": "125fc82f-2dc4-46c1-b7e2-80c835b8b5f4",
   "metadata": {},
   "outputs": [],
   "source": [
    "x_train, x_test, y_train, y_test = train_test_split(x, y, test_size=0.25, random_state=42)"
   ]
  },
  {
   "cell_type": "code",
   "execution_count": 13,
   "id": "81feaae1-4a92-4a9c-99fe-672c3a71c5bb",
   "metadata": {},
   "outputs": [],
   "source": [
    "vectorization = TfidfVectorizer()\n",
    "xv_train = vectorization.fit_transform(x_train)\n",
    "xv_test = vectorization.transform(x_test)"
   ]
  },
  {
   "cell_type": "code",
   "execution_count": 14,
   "id": "fddfedad-6c1b-45b9-8a97-361962e920f7",
   "metadata": {},
   "outputs": [],
   "source": [
    "LR = LogisticRegression()\n",
    "LR.fit(xv_train, y_train)\n",
    "pred_lr = LR.predict(xv_test)"
   ]
  },
  {
   "cell_type": "code",
   "execution_count": 15,
   "id": "be13269d-7345-4cca-8e42-612bba1ff8d2",
   "metadata": {},
   "outputs": [
    {
     "name": "stdout",
     "output_type": "stream",
     "text": [
      "Logistic Regression Classification Report:\n",
      "              precision    recall  f1-score   support\n",
      "\n",
      "           0       0.99      0.99      0.99      5885\n",
      "           1       0.98      0.99      0.98      5335\n",
      "\n",
      "    accuracy                           0.99     11220\n",
      "   macro avg       0.99      0.99      0.99     11220\n",
      "weighted avg       0.99      0.99      0.99     11220\n",
      "\n"
     ]
    }
   ],
   "source": [
    "print(\"Logistic Regression Classification Report:\")\n",
    "print(classification_report(y_test, pred_lr))"
   ]
  },
  {
   "cell_type": "code",
   "execution_count": 16,
   "id": "1ef3429a-602e-4a64-b777-a0c8beee96ec",
   "metadata": {},
   "outputs": [],
   "source": [
    "DT = DecisionTreeClassifier()\n",
    "DT.fit(xv_train, y_train)\n",
    "pred_dt = DT.predict(xv_test)"
   ]
  },
  {
   "cell_type": "code",
   "execution_count": 17,
   "id": "2688801c-9451-405f-a4f2-f83da892dd31",
   "metadata": {},
   "outputs": [
    {
     "name": "stdout",
     "output_type": "stream",
     "text": [
      "Decision Tree Classification Report:\n",
      "              precision    recall  f1-score   support\n",
      "\n",
      "           0       1.00      1.00      1.00      5885\n",
      "           1       0.99      0.99      0.99      5335\n",
      "\n",
      "    accuracy                           1.00     11220\n",
      "   macro avg       1.00      1.00      1.00     11220\n",
      "weighted avg       1.00      1.00      1.00     11220\n",
      "\n"
     ]
    }
   ],
   "source": [
    "print(\"Decision Tree Classification Report:\")\n",
    "print(classification_report(y_test, pred_dt))"
   ]
  },
  {
   "cell_type": "code",
   "execution_count": 18,
   "id": "3d4333f6-3958-40d8-b31c-1f4be918cd55",
   "metadata": {},
   "outputs": [],
   "source": [
    "ensemble_model = VotingClassifier(estimators=[('lr', LR), ('dt', DT)], voting='hard')\n",
    "ensemble_model.fit(xv_train, y_train)\n",
    "pred_ensemble = ensemble_model.predict(xv_test)\n"
   ]
  },
  {
   "cell_type": "code",
   "execution_count": 19,
   "id": "0b2b963f-8f6c-46de-b4e3-88d490b3ca87",
   "metadata": {},
   "outputs": [
    {
     "name": "stdout",
     "output_type": "stream",
     "text": [
      "Ensemble Model Classification Report:\n",
      "              precision    recall  f1-score   support\n",
      "\n",
      "           0       0.98      1.00      0.99      5885\n",
      "           1       1.00      0.98      0.99      5335\n",
      "\n",
      "    accuracy                           0.99     11220\n",
      "   macro avg       0.99      0.99      0.99     11220\n",
      "weighted avg       0.99      0.99      0.99     11220\n",
      "\n"
     ]
    }
   ],
   "source": [
    "print(\"Ensemble Model Classification Report:\")\n",
    "print(classification_report(y_test, pred_ensemble))"
   ]
  },
  {
   "cell_type": "code",
   "execution_count": 23,
   "id": "b0cca20c-efc5-4dce-a60f-e0b8519b18dc",
   "metadata": {},
   "outputs": [
    {
     "name": "stdin",
     "output_type": "stream",
     "text": [
      "Enter your news article text:  One example has been shared more than 40,000 times. It appears to come from a Facebook user in Durham, who wrote that he heard \"first hand that a doctor who had Corona virus recovered in double quick time\" after inhaling steam. A similar message has taken different forms - coming from someone's \"sister in London\", \"Queens NY\" and \"a sister from Pakistan\". There's no evidence that steam inhalation works as a treatment for coronavirus.\n"
     ]
    },
    {
     "name": "stdout",
     "output_type": "stream",
     "text": [
      "{'LR prediction': 'Fake news', 'DT prediction': 'Fake news', 'Ensemble prediction': 'Fake news'}\n"
     ]
    }
   ],
   "source": [
    "def output_label(n):\n",
    "    if n == 0:\n",
    "        return \"Fake news\"\n",
    "    elif n == 1:\n",
    "        return \"Not a fake news\"\n",
    "\n",
    "def manual_testing(news):\n",
    "    testing_news = {\"text\": [news]}\n",
    "    new_def_test = pd.DataFrame(testing_news)\n",
    "    new_def_test[\"text\"] = new_def_test[\"text\"].apply(wordopt)\n",
    "    new_x_test = new_def_test[\"text\"]\n",
    "    new_xv_test = vectorization.transform(new_x_test)\n",
    "    pred_lr = LR.predict(new_xv_test)\n",
    "    pred_dt = DT.predict(new_xv_test)\n",
    "    pred_ensemble = ensemble_model.predict(new_xv_test)\n",
    "    return {\n",
    "        \"LR prediction\": output_label(pred_lr[0]),\n",
    "        \"DT prediction\": output_label(pred_dt[0]),\n",
    "        \"Ensemble prediction\": output_label(pred_ensemble[0])\n",
    "    }\n",
    "\n",
    "# Prompt user for input and perform manual testing\n",
    "news = str(input(\"Enter your news article text: \"))\n",
    "print(manual_testing(news))"
   ]
  },
  {
   "cell_type": "code",
   "execution_count": null,
   "id": "821b2445-c9db-4fab-a1ae-f7ae5643e741",
   "metadata": {},
   "outputs": [],
   "source": []
  }
 ],
 "metadata": {
  "kernelspec": {
   "display_name": "Python 3 (ipykernel)",
   "language": "python",
   "name": "python3"
  },
  "language_info": {
   "codemirror_mode": {
    "name": "ipython",
    "version": 3
   },
   "file_extension": ".py",
   "mimetype": "text/x-python",
   "name": "python",
   "nbconvert_exporter": "python",
   "pygments_lexer": "ipython3",
   "version": "3.12.3"
  },
  "widgets": {
   "application/vnd.jupyter.widget-state+json": {
    "state": {},
    "version_major": 2,
    "version_minor": 0
   }
  }
 },
 "nbformat": 4,
 "nbformat_minor": 5
}
